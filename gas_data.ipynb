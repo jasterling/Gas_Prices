{
 "cells": [
  {
   "cell_type": "markdown",
   "metadata": {},
   "source": [
    "### Import packages"
   ]
  },
  {
   "cell_type": "code",
   "execution_count": 1,
   "metadata": {
    "ExecuteTime": {
     "end_time": "2018-05-16T03:59:44.050483Z",
     "start_time": "2018-05-16T03:59:42.736210Z"
    }
   },
   "outputs": [
    {
     "name": "stderr",
     "output_type": "stream",
     "text": [
      "/Users/jas/anaconda3/lib/python3.6/site-packages/statsmodels/compat/pandas.py:56: FutureWarning: The pandas.core.datetools module is deprecated and will be removed in a future version. Please use the pandas.tseries module instead.\n",
      "  from pandas.core import datetools\n",
      "/Users/jas/anaconda3/lib/python3.6/site-packages/sklearn/cross_validation.py:41: DeprecationWarning: This module was deprecated in version 0.18 in favor of the model_selection module into which all the refactored classes and functions are moved. Also note that the interface of the new CV iterators are different from that of this module. This module will be removed in 0.20.\n",
      "  \"This module will be removed in 0.20.\", DeprecationWarning)\n"
     ]
    }
   ],
   "source": [
    "import pandas as pd\n",
    "import numpy\n",
    "import requests\n",
    "from bs4 import BeautifulSoup\n",
    "import re\n",
    "from datetime import datetime\n",
    "import numpy as np\n",
    "import statsmodels.api as sm\n",
    "import statsmodels.formula.api as smf\n",
    "import patsy\n",
    "import seaborn as sns\n",
    "import matplotlib.pyplot as plt\n",
    "from sklearn.linear_model import LinearRegression\n",
    "from sklearn.linear_model import RidgeCV\n",
    "from sklearn.linear_model import ElasticNetCV\n",
    "from sklearn.cross_validation import train_test_split\n",
    "from sklearn.cross_validation import cross_val_score\n",
    "from sklearn.cross_validation import KFold\n",
    "from sklearn import metrics\n",
    "from sklearn.metrics import mean_squared_error\n",
    "from sklearn.preprocessing import PolynomialFeatures\n",
    "from sklearn.pipeline import make_pipeline\n",
    "\n",
    "%matplotlib inline"
   ]
  },
  {
   "cell_type": "markdown",
   "metadata": {},
   "source": [
    "# 1. Read in relevant data (3 sources)"
   ]
  },
  {
   "cell_type": "code",
   "execution_count": 2,
   "metadata": {
    "ExecuteTime": {
     "end_time": "2018-05-16T03:59:44.054664Z",
     "start_time": "2018-05-16T03:59:44.052138Z"
    }
   },
   "outputs": [],
   "source": [
    "# https://pandas.pydata.org/pandas-docs/stable/generated/pandas.read_excel.html\n",
    "# try with read_excel\n",
    "# hist_regional_fuel = pd.read_excel('pswrgvwall.xls', sheet_name = 12, header = 2)\n",
    "# hist_regional_fuel.to_csv('hist_reg_gas.csv')"
   ]
  },
  {
   "cell_type": "markdown",
   "metadata": {},
   "source": [
    "## Source 1: Scrape Historical WTI data\n",
    "- source: https://www.eia.gov/opendata/qb.php?sdid=PET.RWTC.D\n",
    "- 1. Function defined to pull from data source (wti_hist_source())\n",
    "- 2. Function defined to read from local csv (wti_hist_local())"
   ]
  },
  {
   "cell_type": "code",
   "execution_count": 3,
   "metadata": {
    "ExecuteTime": {
     "end_time": "2018-05-16T03:59:44.067490Z",
     "start_time": "2018-05-16T03:59:44.056310Z"
    }
   },
   "outputs": [],
   "source": [
    "# wti_url = 'https://www.eia.gov/opendata/qb.php?sdid=PET.RWTC.D'\n",
    "\n",
    "def wti_hist_source(url):\n",
    "    r = requests.get(url)\n",
    "    html_doc = r.text\n",
    "    soup = BeautifulSoup(html_doc, 'lxml')\n",
    "\n",
    "    # scrape table head\n",
    "    wti_col = soup.thead.find_all('th')\n",
    "    wti_columns = [x.get_text() for x in wti_col]\n",
    "\n",
    "    # scrape table rows\n",
    "    wti_r = soup.tbody.find_all('tr')\n",
    "    wti_rows = []\n",
    "    for x in wti_r:\n",
    "        td_rset = x.find_all('td')\n",
    "        wti_ro = [x.text for x in td_rset]\n",
    "        wti_rows.append(wti_ro)"
   ]
  },
  {
   "cell_type": "code",
   "execution_count": 4,
   "metadata": {
    "ExecuteTime": {
     "end_time": "2018-05-16T03:59:44.095170Z",
     "start_time": "2018-05-16T03:59:44.069071Z"
    }
   },
   "outputs": [],
   "source": [
    "def wti_cleansave_df(dict_name, df_name): # wti_dict, wti_df are appropriate\n",
    "    dict_name = {}\n",
    "    dict_name['data_desc'] = [x[0] for x in wti_rows]\n",
    "    dict_name['date'] = [x[1] for x in wti_rows]\n",
    "    dict_name['freq'] = [x[2] for x in wti_rows]\n",
    "    dict_name['price'] = [x[3] for x in wti_rows]\n",
    "    dict_name['unit'] = [x[4] for x in wti_rows]\n",
    "\n",
    "    # convert to dataframe for better maneagability (future merging and analyzing)\n",
    "    df_name = pd.DataFrame(wti_dict)\n",
    "\n",
    "    # define data types\n",
    "    df_name['data_desc'] = df_name['data_desc'].astype('category')\n",
    "    df_name['date'] = pd.to_datetime(df_name['date'])\n",
    "    df_name['freq'] = df_name['freq'].astype('category')\n",
    "    df_name['price'] = pd.to_numeric(df_name['price'])\n",
    "    df_name['unit'] = df_name['unit'].astype('category')\n",
    "    \n",
    "    \n",
    "    # save updated wti_spot pricing info\n",
    "    df_name.to_pickle(str(df_name)+'_current.pkl')\n",
    "    \n",
    "    return(df_name.info())"
   ]
  },
  {
   "cell_type": "code",
   "execution_count": 5,
   "metadata": {
    "ExecuteTime": {
     "end_time": "2018-05-16T03:59:44.099259Z",
     "start_time": "2018-05-16T03:59:44.096743Z"
    }
   },
   "outputs": [],
   "source": [
    "# read in WTI - Daily Crude prices\n",
    "# def wti_only_price_pkl(df_name):\n",
    "#     df_name = pd.read_pickle(str(df_name)+'_current.pkl')\n",
    "#     df_name['date'] = pd.to_datetime(wti_daily_df['date'])\n",
    "#     df_name.set_index('date', inplace=True)\n",
    "#     df_name.drop(['Unnamed: 0','freq','data_desc','unit'] ,axis=1 ,inplace=True)\n",
    "#     df_name.rename(columns={'price':'CUSHOK_WTI_spot_DPB'}, inplace=True)\n",
    "#     return(df_name.head(3))"
   ]
  },
  {
   "cell_type": "code",
   "execution_count": 6,
   "metadata": {
    "ExecuteTime": {
     "end_time": "2018-05-16T03:59:44.103842Z",
     "start_time": "2018-05-16T03:59:44.101109Z"
    }
   },
   "outputs": [],
   "source": [
    "# def wti_only_price_csv(df_name):\n",
    "#     df_name = pd.read_csv('wti_df_16apr18.csv')\n",
    "#     df_name['date'] = pd.to_datetime(df_name['date'])\n",
    "#     df_name.set_index('date', inplace=True)\n",
    "#     df_name.drop(['Unnamed: 0','freq','data_desc','unit'] ,axis=1 ,inplace=True)\n",
    "#     df_name.rename(columns={'price':'CUSHOK_WTI_spot_DPB'}, inplace=True)\n",
    "#     return(df_name.head(3))"
   ]
  },
  {
   "cell_type": "code",
   "execution_count": 7,
   "metadata": {
    "ExecuteTime": {
     "end_time": "2018-05-16T03:59:44.108246Z",
     "start_time": "2018-05-16T03:59:44.105940Z"
    },
    "scrolled": true
   },
   "outputs": [],
   "source": [
    "# wti_only_price_csv(wti_daily_df)"
   ]
  },
  {
   "cell_type": "code",
   "execution_count": 8,
   "metadata": {
    "ExecuteTime": {
     "end_time": "2018-05-16T03:59:44.152468Z",
     "start_time": "2018-05-16T03:59:44.109844Z"
    }
   },
   "outputs": [
    {
     "data": {
      "text/html": [
       "<div>\n",
       "<style scoped>\n",
       "    .dataframe tbody tr th:only-of-type {\n",
       "        vertical-align: middle;\n",
       "    }\n",
       "\n",
       "    .dataframe tbody tr th {\n",
       "        vertical-align: top;\n",
       "    }\n",
       "\n",
       "    .dataframe thead th {\n",
       "        text-align: right;\n",
       "    }\n",
       "</style>\n",
       "<table border=\"1\" class=\"dataframe\">\n",
       "  <thead>\n",
       "    <tr style=\"text-align: right;\">\n",
       "      <th></th>\n",
       "      <th>CUSHOK_WTI_spot_DPB</th>\n",
       "    </tr>\n",
       "    <tr>\n",
       "      <th>date</th>\n",
       "      <th></th>\n",
       "    </tr>\n",
       "  </thead>\n",
       "  <tbody>\n",
       "    <tr>\n",
       "      <th>2018-04-09</th>\n",
       "      <td>63.40</td>\n",
       "    </tr>\n",
       "    <tr>\n",
       "      <th>2018-04-06</th>\n",
       "      <td>62.03</td>\n",
       "    </tr>\n",
       "    <tr>\n",
       "      <th>2018-04-05</th>\n",
       "      <td>63.53</td>\n",
       "    </tr>\n",
       "  </tbody>\n",
       "</table>\n",
       "</div>"
      ],
      "text/plain": [
       "            CUSHOK_WTI_spot_DPB\n",
       "date                           \n",
       "2018-04-09                63.40\n",
       "2018-04-06                62.03\n",
       "2018-04-05                63.53"
      ]
     },
     "execution_count": 8,
     "metadata": {},
     "output_type": "execute_result"
    }
   ],
   "source": [
    "wti_crudespot_df = pd.read_csv('Gas_Data/wti_df_16apr18.csv')\n",
    "wti_crudespot_df['date'] = pd.to_datetime(wti_crudespot_df['date'])\n",
    "wti_crudespot_df.set_index('date', inplace=True)\n",
    "wti_crudespot_df.drop(['Unnamed: 0','freq','data_desc','unit'] ,axis=1 ,inplace=True)\n",
    "wti_crudespot_df.rename(columns={'price':'CUSHOK_WTI_spot_DPB'}, inplace=True)\n",
    "wti_crudespot_df.head(3)"
   ]
  },
  {
   "cell_type": "markdown",
   "metadata": {},
   "source": [
    "## Source 2: BP Energy Report\n",
    "(bp-statistical-review-of-world-energy-2017-underpinning-data.xlsx)\n",
    "TBD = Thousand Barrels Daily\n",
    "BB = Billion Barrels\n",
    "MTOE = Million Tonne Oil Equivalent\n",
    "\n",
    "1. Oil Production - Barrels\n",
    "2. Oil - Refinery capacities\n",
    "3. Oil - Proved Reserves History\n",
    "4. Oil - Trade movements\n",
    "5. Oil - Refiner throughput\n",
    "6. Renewables/Coal/Nuclear... consider later"
   ]
  },
  {
   "cell_type": "code",
   "execution_count": 9,
   "metadata": {
    "ExecuteTime": {
     "end_time": "2018-05-16T03:59:44.170672Z",
     "start_time": "2018-05-16T03:59:44.153902Z"
    }
   },
   "outputs": [],
   "source": [
    "def set_bp_year_dtindex(df_name):\n",
    "    df_name.reset_index(inplace=True)\n",
    "    df_name.rename(columns = {'index':'year'}, inplace=True)\n",
    "    df_name['year'] = pd.to_datetime(df_name['year'], format='%Y', errors='coerce')\n",
    "    df_name.set_index('year', inplace=True)\n",
    "    \n",
    "def set_eia_week_dtindex(df_name):\n",
    "    df_name.reset_index(inplace=True)\n",
    "    df_name.rename(columns = {'Date':'week'}, inplace=True)\n",
    "    df_name['week'] = pd.to_datetime(df_name['week'], format='%Y-%m-%d', errors='coerce')\n",
    "    df_name.set_index('week', inplace=True)\n",
    "    \n",
    "def set_eia_month_dtindex(df_name):\n",
    "    df_name.reset_index(inplace=True)\n",
    "    df_name.rename(columns = {'Date':'month'}, inplace=True)\n",
    "    df_name['month'] = pd.to_datetime(df_name['month'], format='%Y-%m', errors='coerce')\n",
    "    df_name.set_index('month', inplace=True)"
   ]
  },
  {
   "cell_type": "code",
   "execution_count": 10,
   "metadata": {
    "ExecuteTime": {
     "end_time": "2018-05-16T03:59:45.255760Z",
     "start_time": "2018-05-16T03:59:44.172631Z"
    }
   },
   "outputs": [],
   "source": [
    "# Read in BP data from xlsx\n",
    "# Oil Production - Barrels; US, Total World; TBD\n",
    "#bp_production_df = bp_production_df[bp_production_df.index.str.startswith('Total') == False]\n",
    "bp_production_df = pd.read_excel('Gas_Data/bp-statistical-review-of-world-energy-2017-underpinning-data.xlsx', header = 2, index_col = 0, sheet_name = 'Oil Production - Barrels')\n",
    "bp_production_df = bp_production_df.loc[['US', 'Total World']]\n",
    "bp_production_df = bp_production_df.transpose()\n",
    "bp_production_df.rename(columns = {'US':'US_production_TBD', 'Total World':'Global_production_TBD'}, inplace=True)\n",
    "set_bp_year_dtindex(bp_production_df)"
   ]
  },
  {
   "cell_type": "code",
   "execution_count": 11,
   "metadata": {
    "ExecuteTime": {
     "end_time": "2018-05-16T03:59:46.306631Z",
     "start_time": "2018-05-16T03:59:45.257785Z"
    },
    "scrolled": true
   },
   "outputs": [],
   "source": [
    "# Read in BP data from xlsx\n",
    "# Oil - Refinery capacities; US, Total World; TBD\n",
    "bp_refcapac_df = pd.read_excel('Gas_Data/bp-statistical-review-of-world-energy-2017-underpinning-data.xlsx', header = 2, index_col = 0, sheet_name = 'Oil - Refinery capacities')\n",
    "bp_refcapac_df = bp_refcapac_df.loc[['US', 'Total World']]\n",
    "bp_refcapac_df = bp_refcapac_df.transpose()\n",
    "bp_refcapac_df.rename(columns = {'US':'US_refcapac_TBD', 'Total World':'Global_refcapac_TBD'}, inplace=True)\n",
    "set_bp_year_dtindex(bp_refcapac_df)"
   ]
  },
  {
   "cell_type": "code",
   "execution_count": 12,
   "metadata": {
    "ExecuteTime": {
     "end_time": "2018-05-16T03:59:47.406761Z",
     "start_time": "2018-05-16T03:59:46.308897Z"
    }
   },
   "outputs": [],
   "source": [
    "# Read in BP data from xlsx\n",
    "# Oil - Proved reserves history; US, Total World; BB\n",
    "bp_reserves_df = pd.read_excel('Gas_Data/bp-statistical-review-of-world-energy-2017-underpinning-data.xlsx', header = 2, index_col = 0, sheet_name = 'Oil - Proved reserves history')\n",
    "bp_reserves_df = bp_reserves_df.loc[['US', 'Total World']]\n",
    "bp_reserves_df = bp_reserves_df.transpose()\n",
    "bp_reserves_df.rename(columns = {'US':'US_PReserves_BB', 'Total World':'Global_PReserves_BB'}, inplace=True)\n",
    "set_bp_year_dtindex(bp_reserves_df)"
   ]
  },
  {
   "cell_type": "code",
   "execution_count": 13,
   "metadata": {
    "ExecuteTime": {
     "end_time": "2018-05-16T03:59:48.466702Z",
     "start_time": "2018-05-16T03:59:47.408894Z"
    },
    "scrolled": true
   },
   "outputs": [],
   "source": [
    "# Read in BP data from xlsx\n",
    "# Oil - Trade movements; US, Total World; TBD\n",
    "bp_trade_df = pd.read_excel('Gas_Data/bp-statistical-review-of-world-energy-2017-underpinning-data.xlsx', header = 2, index_col = 0, sheet_name = 'Oil - Trade movements')\n",
    "bp_trade_df = bp_trade_df.loc['US'] # other option: iloc[[5, 20]\n",
    "bp_trade_df = bp_trade_df.transpose()\n",
    "# below must do differently to account for two rows with same index name\n",
    "bp_trade_df.columns.values[1] = 'US_Exports_TBD'\n",
    "bp_trade_df.columns.values[0] = 'US_Imports_TBD'\n",
    "set_bp_year_dtindex(bp_trade_df)"
   ]
  },
  {
   "cell_type": "code",
   "execution_count": 14,
   "metadata": {
    "ExecuteTime": {
     "end_time": "2018-05-16T03:59:49.530267Z",
     "start_time": "2018-05-16T03:59:48.468806Z"
    }
   },
   "outputs": [],
   "source": [
    "# Read in BP data from xlsx\n",
    "# Primary Energy Consumption; US, Total World; MTOE\n",
    "bp_consumption_df = pd.read_excel('Gas_Data/bp-statistical-review-of-world-energy-2017-underpinning-data.xlsx', header = 2, index_col = 0, sheet_name = 'Primary Energy Consumption')\n",
    "bp_consumption_df = bp_consumption_df.loc[['US', 'Total World']]\n",
    "bp_consumption_df = bp_consumption_df.transpose()\n",
    "bp_consumption_df = bp_consumption_df.rename(columns={'US':'US_consumption_MTOE', 'Total World':'Global_consumption_MTOE'})\n",
    "set_bp_year_dtindex(bp_consumption_df)"
   ]
  },
  {
   "cell_type": "code",
   "execution_count": 15,
   "metadata": {
    "ExecuteTime": {
     "end_time": "2018-05-16T03:59:50.633344Z",
     "start_time": "2018-05-16T03:59:49.532308Z"
    }
   },
   "outputs": [],
   "source": [
    "# Read in BP data from xlsx\n",
    "# Oil - Refinery throughput; US, Total World; TBD\n",
    "bp_refthru_df = pd.read_excel('Gas_Data/bp-statistical-review-of-world-energy-2017-underpinning-data.xlsx', header = 2, index_col = 0, sheet_name = 'Oil - Refinery throughput')\n",
    "bp_refthru_df = bp_refthru_df.loc[['US', 'Total World']]\n",
    "bp_refthru_df = bp_refthru_df.transpose()\n",
    "bp_refthru_df = bp_refthru_df.rename(columns={'US':'US_refthru_TBD', 'Total World':'Global_refthru_TBD'})\n",
    "set_bp_year_dtindex(bp_refthru_df)"
   ]
  },
  {
   "cell_type": "markdown",
   "metadata": {},
   "source": [
    "## Source 3: EIA Weekly Report"
   ]
  },
  {
   "cell_type": "code",
   "execution_count": 16,
   "metadata": {
    "ExecuteTime": {
     "end_time": "2018-05-16T03:59:52.132560Z",
     "start_time": "2018-05-16T03:59:50.635431Z"
    }
   },
   "outputs": [
    {
     "name": "stderr",
     "output_type": "stream",
     "text": [
      "/Users/jas/anaconda3/lib/python3.6/site-packages/pandas/core/frame.py:3027: SettingWithCopyWarning: \n",
      "A value is trying to be set on a copy of a slice from a DataFrame\n",
      "\n",
      "See the caveats in the documentation: http://pandas.pydata.org/pandas-docs/stable/indexing.html#indexing-view-versus-copy\n",
      "  return super(DataFrame, self).rename(**kwargs)\n",
      "/Users/jas/anaconda3/lib/python3.6/site-packages/ipykernel_launcher.py:10: SettingWithCopyWarning: \n",
      "A value is trying to be set on a copy of a slice from a DataFrame.\n",
      "Try using .loc[row_indexer,col_indexer] = value instead\n",
      "\n",
      "See the caveats in the documentation: http://pandas.pydata.org/pandas-docs/stable/indexing.html#indexing-view-versus-copy\n",
      "  # Remove the CWD from sys.path while we load stuff.\n"
     ]
    }
   ],
   "source": [
    "# Read in EAI data from xls\n",
    "# Daily data\n",
    "wti_crudefuturesc1_df = pd.read_excel('Gas_Data/wti_crudefuturesc1_daily.xls', sheet_name='Data 1', index_col=0, header=2)\n",
    "set_eia_week_dtindex(wti_crudefuturesc1_df)\n",
    "wti_crudefuturesc3_df = pd.read_excel('Gas_Data/wti_crudefuturesc3_daily.xls', sheet_name='Data 1', index_col=0, header=2)\n",
    "set_eia_week_dtindex(wti_crudefuturesc3_df)\n",
    "\n",
    "# below HU/RBOBc1 & c3 to be appended on Jun 2016\n",
    "nyh_HUfuturesc1_df = pd.read_excel('Gas_Data/nyharbor_HUfuturesc1_daily.xls', sheet_name='Data 1', index_col=0, header=2)\n",
    "set_eia_week_dtindex(nyh_HUfuturesc1_df)\n",
    "nyh_RBOBfuturesc1_df = pd.read_excel('Gas_Data/nyharbor_RBOBfuturesc1_daily.xls', sheet_name='Data 1', index_col=0, header=2)\n",
    "set_eia_week_dtindex(nyh_RBOBfuturesc1_df)\n",
    "nyh_HUfuturesc3_df = pd.read_excel('Gas_Data/nyharbor_HUfuturesc3_daily.xls', sheet_name='Data 1', index_col=0, header=2)\n",
    "set_eia_week_dtindex(nyh_HUfuturesc3_df)\n",
    "nyh_RBOBfuturesc3_df = pd.read_excel('Gas_Data/nyharbor_RBOBfuturesc3_daily.xls', sheet_name='Data 1', index_col=0, header=2)\n",
    "set_eia_week_dtindex(nyh_RBOBfuturesc3_df)\n",
    "\n",
    "# Weekly data\n",
    "wa_retail_df = pd.read_excel('Gas_Data/wash_retailgas_week.xls', sheet_name='Data 1', index_col=0, header=2)\n",
    "set_eia_week_dtindex(wa_retail_df)\n",
    "us_netcrudeinputs_df = pd.read_excel('Gas_Data/us_netcrudeinputs_week.xls', sheet_name='Data 1', index_col=0, header=2)\n",
    "set_eia_week_dtindex(us_netcrudeinputs_df)\n",
    "us_retail_df = pd.read_excel('Gas_Data/us_retailregprice_week.xls', sheet_name='Data 1', index_col=0, header=2)\n",
    "us_retail_df_slim = us_retail_df[['Weekly U.S. Regular Conventional Retail Gasoline Prices  (Dollars per Gallon)']]\n",
    "set_eia_week_dtindex(us_retail_df_slim)\n",
    "us_storage_df = pd.read_excel('Gas_Data/us_storage_week.xls', sheet_name='Data 1', index_col=0, header=2)\n",
    "set_eia_week_dtindex(us_storage_df)\n",
    "\n",
    "# Monthly data\n",
    "us_oilproduction_df = pd.read_excel('Gas_Data/us_oilproduction_month.xls', sheet_name='Data 1', index_col=0, header=2)\n",
    "set_eia_month_dtindex(us_oilproduction_df)\n",
    "us_pctyieldmgas_df = pd.read_excel('Gas_Data/us_refinyieldmgas_week.xls', sheet_name='Data 1', index_col=0, header=2)\n",
    "set_eia_week_dtindex(us_pctyieldmgas_df)"
   ]
  },
  {
   "cell_type": "code",
   "execution_count": 17,
   "metadata": {
    "ExecuteTime": {
     "end_time": "2018-05-16T03:59:52.138426Z",
     "start_time": "2018-05-16T03:59:52.134427Z"
    }
   },
   "outputs": [
    {
     "data": {
      "text/plain": [
       "Index(['New York Harbor Reformulated RBOB Regular Gasoline Future Contract 1 (Dollars per Gallon)'], dtype='object')"
      ]
     },
     "execution_count": 17,
     "metadata": {},
     "output_type": "execute_result"
    }
   ],
   "source": [
    "nyh_RBOBfuturesc1_df.columns"
   ]
  },
  {
   "cell_type": "code",
   "execution_count": 18,
   "metadata": {
    "ExecuteTime": {
     "end_time": "2018-05-16T03:59:52.300026Z",
     "start_time": "2018-05-16T03:59:52.140076Z"
    }
   },
   "outputs": [],
   "source": [
    "# concat or append reggasfuturesc1 & c3 to rbobc1 & c3\n",
    "# Prep contract 1 data\n",
    "nyh_HUfuturesc1_df = nyh_HUfuturesc1_df.loc[nyh_HUfuturesc1_df.index.year < 2006]\n",
    "nyh_RBOBfuturesc1_df = nyh_RBOBfuturesc1_df.loc[nyh_RBOBfuturesc1_df.index.year > 2005]\n",
    "nyh_HUfuturesc1_df.rename(columns={'New York Harbor Regular Gasoline Future Contract 1 (Dollars per Gallon)': 'nyh_HU_RBOBc1_DPG'}, inplace=True)\n",
    "nyh_RBOBfuturesc1_df.rename(columns={'New York Harbor Reformulated RBOB Regular Gasoline Future Contract 1 (Dollars per Gallon)':'nyh_HU_RBOBc1_DPG'}, inplace=True)\n",
    "\n",
    "# Merge contract 1 data\n",
    "framesc1 = [nyh_HUfuturesc1_df, nyh_RBOBfuturesc1_df]\n",
    "nyh_HU_RBOB_futuresc1_df = pd.concat(framesc1)\n",
    "\n",
    "# Prep contract 3 data\n",
    "nyh_HUfuturesc3_df = nyh_HUfuturesc3_df.loc[nyh_HUfuturesc1_df.index.year < 2006]\n",
    "nyh_RBOBfuturesc3_df = nyh_RBOBfuturesc3_df.loc[nyh_RBOBfuturesc1_df.index.year > 2005]\n",
    "nyh_HUfuturesc3_df.rename(columns={'New York Harbor Regular Gasoline Future Contract 3 (Dollars per Gallon)': 'nyh_HU_RBOBc3_DPG'}, inplace=True)\n",
    "nyh_RBOBfuturesc3_df.rename(columns={'New York Harbor Reformulated RBOB Regular Gasoline Future Contract 3 (Dollars per Gallon)':'nyh_HU_RBOBc3_DPG'}, inplace=True)\n",
    "# Merge contract 3 data\n",
    "framesc3 = [nyh_HUfuturesc3_df, nyh_RBOBfuturesc3_df]\n",
    "nyh_HU_RBOB_futuresc3_df = pd.concat(framesc3)"
   ]
  },
  {
   "cell_type": "markdown",
   "metadata": {},
   "source": [
    "# 2. Consolidate data"
   ]
  },
  {
   "cell_type": "code",
   "execution_count": 19,
   "metadata": {
    "ExecuteTime": {
     "end_time": "2018-05-16T03:59:52.393163Z",
     "start_time": "2018-05-16T03:59:52.301693Z"
    }
   },
   "outputs": [
    {
     "name": "stdout",
     "output_type": "stream",
     "text": [
      "<class 'pandas.core.frame.DataFrame'>\n",
      "DatetimeIndex: 10776 entries, 1920-01-15 to NaT\n",
      "Data columns (total 23 columns):\n",
      "Weekly Washington Regular All Formulations Retail Gasoline Prices  (Dollars per Gallon)    4693 non-null float64\n",
      "Cushing, OK Crude Oil Future Contract 1 (Dollars per Barrel)                               9967 non-null float64\n",
      "Cushing, OK Crude Oil Future Contract 3 (Dollars per Barrel)                               9970 non-null float64\n",
      "CUSHOK_WTI_spot_DPB                                                                        9259 non-null float64\n",
      "nyh_HU_RBOBc1_DPG                                                                          9516 non-null float64\n",
      "nyh_HU_RBOBc3_DPG                                                                          9536 non-null float64\n",
      "Weekly U.S. Ending Stocks of Crude Oil and Petroleum Products  (Thousand Barrels)          8210 non-null float64\n",
      "Weekly U.S. Regular Conventional Retail Gasoline Prices  (Dollars per Gallon)              8048 non-null float64\n",
      "U.S. Refinery Yield of Finished Motor Gasoline (Percent)                                   7413 non-null float64\n",
      "Weekly U.S. Refiner Net Input of Crude Oil  (Thousand Barrels per Day)                     10006 non-null float64\n",
      "U.S. Field Production of Crude Oil (Thousand Barrels per Day)                              10776 non-null float64\n",
      "US_production_TBD                                                                          10236 non-null float64\n",
      "Global_production_TBD                                                                      10236 non-null float64\n",
      "US_refcapac_TBD                                                                            10236 non-null float64\n",
      "Global_refcapac_TBD                                                                        10236 non-null float64\n",
      "US_PReserves_BB                                                                            10041 non-null float64\n",
      "Global_PReserves_BB                                                                        10041 non-null float64\n",
      "US_Imports_TBD                                                                             10041 non-null float64\n",
      "US_Exports_TBD                                                                             10041 non-null float64\n",
      "US_consumption_MTOE                                                                        10236 non-null float64\n",
      "Global_consumption_MTOE                                                                    10236 non-null float64\n",
      "US_refthru_TBD                                                                             10041 non-null float64\n",
      "Global_refthru_TBD                                                                         10041 non-null float64\n",
      "dtypes: float64(23)\n",
      "memory usage: 2.0 MB\n"
     ]
    }
   ],
   "source": [
    "# could build a function to load all of these dfs... later.\n",
    "df_joined = wa_retail_df.join([wti_crudefuturesc1_df, wti_crudefuturesc3_df, wti_crudespot_df, nyh_HU_RBOB_futuresc1_df, nyh_HU_RBOB_futuresc3_df, us_storage_df, us_retail_df_slim, us_pctyieldmgas_df, us_netcrudeinputs_df, us_oilproduction_df, bp_production_df, bp_refcapac_df, bp_reserves_df, bp_trade_df, bp_consumption_df, bp_refthru_df], how='outer')\n",
    "\n",
    "#df_joined['U.S. Refinery Yield of Finished Motor Gasoline (Percent)'].fillna(method='bfill', inplace=True)\n",
    "df_joined.fillna(method='ffill', inplace=True)\n",
    "#tester = df_joined[['Weekly Washington Regular All Formulations Retail Gasoline Prices  (Dollars per Gallon)','U.S. Refinery Yield of Finished Motor Gasoline (Percent)']]\n",
    "df_joined.info()"
   ]
  },
  {
   "cell_type": "code",
   "execution_count": 20,
   "metadata": {
    "ExecuteTime": {
     "end_time": "2018-05-16T03:59:52.400085Z",
     "start_time": "2018-05-16T03:59:52.394957Z"
    }
   },
   "outputs": [],
   "source": [
    "df_joined.rename(columns={'Weekly Washington Regular All Formulations Retail Gasoline Prices  (Dollars per Gallon)':'wa_retail_wk_DPG', \n",
    "                          'Cushing, OK Crude Oil Future Contract 1 (Dollars per Barrel)':'wti_crudefuturesc1_DPB', \n",
    "                          'CUSHOK_WTI_spot_DPB': 'wti_OKcrudespot_DPB',\n",
    "                          'Cushing, OK Crude Oil Future Contract 1 (Dollars per Barrel)':'wti_crudefuturesc1_DPG',\n",
    "                          'Cushing, OK Crude Oil Future Contract 3 (Dollars per Barrel)':'wti_crudefuturesc3_DPG',\n",
    "                          'New York Harbor Reformulated RBOB Regular Gasoline Future Contract 1 (Dollars per Gallon)': 'wti_crudefuturesc3_DPG',\n",
    "                    'Weekly U.S. Ending Stocks of Crude Oil and Petroleum Products  (Thousand Barrels)':'us_crudestock_TB', \n",
    "                   'Weekly U.S. Regular Conventional Retail Gasoline Prices  (Dollars per Gallon)':'us_retail_wk_DPG',\n",
    "                   'U.S. Refinery Yield of Finished Motor Gasoline (Percent)':'us_refyield_wk_pct',\n",
    "                   'Weekly U.S. Refiner Net Input of Crude Oil  (Thousand Barrels per Day)':'us_refcrudeinput_wk_TBD', \n",
    "                   'U.S. Field Production of Crude Oil (Thousand Barrels per Day)':'us_production_wk_TBD'\n",
    "                  }, inplace=True)"
   ]
  },
  {
   "cell_type": "code",
   "execution_count": 21,
   "metadata": {
    "ExecuteTime": {
     "end_time": "2018-05-16T03:59:52.404195Z",
     "start_time": "2018-05-16T03:59:52.401781Z"
    }
   },
   "outputs": [],
   "source": [
    "# add (1) wti_crudefutures, (2) wti_crudespot (change from 'wti_df'), and (3) nyharbor_RBOB"
   ]
  },
  {
   "cell_type": "code",
   "execution_count": 22,
   "metadata": {
    "ExecuteTime": {
     "end_time": "2018-05-16T03:59:52.411232Z",
     "start_time": "2018-05-16T03:59:52.406280Z"
    }
   },
   "outputs": [],
   "source": [
    "df_joined = df_joined[['us_retail_wk_DPG', 'wti_crudefuturesc1_DPG', 'wti_crudefuturesc3_DPG', 'nyh_HU_RBOBc1_DPG', \n",
    "                       'nyh_HU_RBOBc3_DPG', 'wti_OKcrudespot_DPB', 'us_crudestock_TB','us_refyield_wk_pct',\n",
    "       'us_refcrudeinput_wk_TBD', 'us_production_wk_TBD', 'US_production_TBD',\n",
    "       'Global_production_TBD', 'US_refcapac_TBD', 'Global_refcapac_TBD',\n",
    "       'US_PReserves_BB', 'Global_PReserves_BB', 'US_Imports_TBD',\n",
    "       'US_Exports_TBD', 'US_consumption_MTOE', 'Global_consumption_MTOE',\n",
    "       'US_refthru_TBD', 'Global_refthru_TBD']]"
   ]
  },
  {
   "cell_type": "code",
   "execution_count": 23,
   "metadata": {
    "ExecuteTime": {
     "end_time": "2018-05-16T03:59:52.414971Z",
     "start_time": "2018-05-16T03:59:52.412792Z"
    }
   },
   "outputs": [],
   "source": [
    "# first get average US gas prices, then WA can be a 'secondary forecast'\n",
    "# df.drop('wa_retail_wk_DPG', axis=1, inplace=True)"
   ]
  },
  {
   "cell_type": "code",
   "execution_count": 24,
   "metadata": {
    "ExecuteTime": {
     "end_time": "2018-05-16T03:59:52.462988Z",
     "start_time": "2018-05-16T03:59:52.416308Z"
    }
   },
   "outputs": [],
   "source": [
    "# drop null datetimes ('NaT') with: \n",
    "df_joined = df_joined[df_joined.index.notnull()]\n",
    "# drop null values\n",
    "df_joined.dropna(inplace=True)\n",
    "# limit df results to focal years\n",
    "# df = df.loc['1990':'2016']"
   ]
  },
  {
   "cell_type": "markdown",
   "metadata": {},
   "source": [
    "# Pickle That!"
   ]
  },
  {
   "cell_type": "code",
   "execution_count": 25,
   "metadata": {
    "ExecuteTime": {
     "end_time": "2018-05-16T03:59:52.472059Z",
     "start_time": "2018-05-16T03:59:52.464626Z"
    }
   },
   "outputs": [],
   "source": [
    "df_joined.to_pickle('Gas_Data/raw_joined_df.pkl')"
   ]
  },
  {
   "cell_type": "code",
   "execution_count": 26,
   "metadata": {
    "ExecuteTime": {
     "end_time": "2018-05-16T03:59:52.476009Z",
     "start_time": "2018-05-16T03:59:52.473862Z"
    }
   },
   "outputs": [],
   "source": [
    "# df = pd.read_pickle('raw_joined_df.pkl')"
   ]
  },
  {
   "cell_type": "code",
   "execution_count": 27,
   "metadata": {
    "ExecuteTime": {
     "end_time": "2018-05-16T03:59:52.479816Z",
     "start_time": "2018-05-16T03:59:52.477749Z"
    }
   },
   "outputs": [],
   "source": [
    "# df.head()"
   ]
  },
  {
   "cell_type": "code",
   "execution_count": 28,
   "metadata": {
    "ExecuteTime": {
     "end_time": "2018-05-16T03:59:52.487684Z",
     "start_time": "2018-05-16T03:59:52.481489Z"
    }
   },
   "outputs": [
    {
     "name": "stdout",
     "output_type": "stream",
     "text": [
      "<class 'pandas.core.frame.DataFrame'>\n",
      "DatetimeIndex: 6684 entries, 1993-01-15 to 2018-04-24\n",
      "Data columns (total 22 columns):\n",
      "us_retail_wk_DPG           6684 non-null float64\n",
      "wti_crudefuturesc1_DPG     6684 non-null float64\n",
      "wti_crudefuturesc3_DPG     6684 non-null float64\n",
      "nyh_HU_RBOBc1_DPG          6684 non-null float64\n",
      "nyh_HU_RBOBc3_DPG          6684 non-null float64\n",
      "wti_OKcrudespot_DPB        6684 non-null float64\n",
      "us_crudestock_TB           6684 non-null float64\n",
      "us_refyield_wk_pct         6684 non-null float64\n",
      "us_refcrudeinput_wk_TBD    6684 non-null float64\n",
      "us_production_wk_TBD       6684 non-null float64\n",
      "US_production_TBD          6684 non-null float64\n",
      "Global_production_TBD      6684 non-null float64\n",
      "US_refcapac_TBD            6684 non-null float64\n",
      "Global_refcapac_TBD        6684 non-null float64\n",
      "US_PReserves_BB            6684 non-null float64\n",
      "Global_PReserves_BB        6684 non-null float64\n",
      "US_Imports_TBD             6684 non-null float64\n",
      "US_Exports_TBD             6684 non-null float64\n",
      "US_consumption_MTOE        6684 non-null float64\n",
      "Global_consumption_MTOE    6684 non-null float64\n",
      "US_refthru_TBD             6684 non-null float64\n",
      "Global_refthru_TBD         6684 non-null float64\n",
      "dtypes: float64(22)\n",
      "memory usage: 1.2 MB\n"
     ]
    }
   ],
   "source": [
    "df_joined.info()"
   ]
  }
 ],
 "metadata": {
  "kernelspec": {
   "display_name": "Python 3",
   "language": "python",
   "name": "python3"
  },
  "language_info": {
   "codemirror_mode": {
    "name": "ipython",
    "version": 3
   },
   "file_extension": ".py",
   "mimetype": "text/x-python",
   "name": "python",
   "nbconvert_exporter": "python",
   "pygments_lexer": "ipython3",
   "version": "3.6.4"
  }
 },
 "nbformat": 4,
 "nbformat_minor": 2
}
